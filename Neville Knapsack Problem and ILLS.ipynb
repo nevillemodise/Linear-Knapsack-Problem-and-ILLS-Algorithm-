{
 "cells": [
  {
   "cell_type": "markdown",
   "id": "e4e4675a",
   "metadata": {},
   "source": [
    "## Neville Modise - Linear Knapsack Problem"
   ]
  },
  {
   "cell_type": "markdown",
   "id": "2bee0466",
   "metadata": {},
   "source": [
    "The Knapsack Problem is considered to be a combinatorial optimization problem. The best selection and configuration of a collection of objects adhering to some objective function defines\n",
    "combinatorial optimization problems. A Knapsack model serves as an abstract model with broad\n",
    "spectrum applications such as: Resource allocation problems, Portfolio optimization, Cargo-loading\n",
    "problems\n"
   ]
  },
  {
   "cell_type": "markdown",
   "id": "baa2cfc3",
   "metadata": {},
   "source": [
    "## Linear Knapsack problem.\n",
    "\n",
    "We wish to maximize $\\sum_{i=1}^{n}v_ix_i$ subject to $\\sum_{i=1}^{n}w_ix_i\\leq W$.<br> Where $v_i$ and $w_i$ represent the value and weight of the  $i^{th}$ item respectively and <br>$x_i\\in\\{1,0\\}$ represents whether the item is taken or not and $W$ is the <br>maximum allowed weight for the set of items <br>\n",
    "\n",
    "$(v_i, w_i)=${(2,7),(6,3),(8,3),(7,5),<br>(3,4),(4,7),(6,5),(5,4),\n",
    "(10,15),<br>(9,10),(8,17),(11,3),(12,6),(15,11),<br>(6,6),(8,14),(13,4),\n",
    "(14,8),(15,9),<br>(16,10),(13,14),(14,17),(15,9),(26,24),<br>\n",
    "(13,11),(9,17),(25,12),(26,14)}<br> with a total capacity $W=30$"
   ]
  },
  {
   "cell_type": "markdown",
   "id": "2ce00fec",
   "metadata": {},
   "source": [
    "### Greedy Algorithm"
   ]
  },
  {
   "cell_type": "markdown",
   "id": "4de24d7b",
   "metadata": {},
   "source": [
    "A greedy approach can be implemented with the following steps\n",
    "- Use a score/efficiency function i.e a profit to weight ratio that is $$f_i=\\frac{v_i}{w_i}$$\n",
    "\n",
    "$\\quad$ if $f_i\\geq f_j$ it means we prefer item $i$ over item $j$\n",
    "- Sort the items according to their efficiency score (descending order)\n",
    "- Continuous add items with the highest score to the knapsack without violating the weight limit\n",
    "- Return the set of items that satisfies weight limit and yields maximum profit"
   ]
  },
  {
   "cell_type": "code",
   "execution_count": 1,
   "id": "ea13638d",
   "metadata": {},
   "outputs": [],
   "source": [
    "import numpy as np\n",
    "import random\n",
    "# let's create an instance for the knapsack problem\n",
    "value = np.array([2,6,8,7,3,4,6,5,10,9,8,11,12,15,6,8,13,14,15,16,13,14,15,26,13,9,25,26])\n",
    "weight = np.array([7,3,3,5,4,7,5,4,15,10,17,3,6,11,6,14,4,8,9,10,14,17,9,24,11,17,12,14])\n",
    "# define max weight for the knapsack\n",
    "maxWeight=30\n",
    "# number of elements in a solution\n",
    "n=28\n"
   ]
  },
  {
   "cell_type": "code",
   "execution_count": 2,
   "id": "ccc67b7b",
   "metadata": {},
   "outputs": [],
   "source": [
    "def knapsackGreProc(value,weight,W):\n",
    "    \n",
    "# sorting Item on basis of ratio\n",
    "    score = value/weight #calculate Score\n",
    "    \n",
    "    scoreindex = np.argsort(-score)#sort in descending order\n",
    "    weight=weight[scoreindex]\n",
    "#add the weights without exceeding the weight capacity 30\n",
    "    sumofitems = 0\n",
    "    indx_binary=np.zeros(n).astype(int)\n",
    "    for i in range(n):\n",
    "# If adding Item won't overflow, add it completely\n",
    "       if ((sumofitems+weight[i])<=W):\n",
    "        indx_binary[scoreindex[i]]=1\n",
    "        sumofitems=sumofitems+weight[i]\n",
    "    return indx_binary"
   ]
  },
  {
   "cell_type": "code",
   "execution_count": 3,
   "id": "04eb563b",
   "metadata": {},
   "outputs": [
    {
     "name": "stdout",
     "output_type": "stream",
     "text": [
      "Question 1 - Greedy Algorithm Implementation \n",
      "Profit : 70\n",
      "Weight of the knapsack : 30\n",
      "Selected value : [ 6  8  7 11 13 25]\n",
      "Selected weight : [ 3  3  5  3  4 12]\n"
     ]
    }
   ],
   "source": [
    "print(\"Question 1 - Greedy Algorithm Implementation \")\n",
    "indx_binary =knapsackGreProc(value,weight,maxWeight)\n",
    "print(\"Profit :\",np.sum(value[indx_binary==1]))\n",
    "print(\"Weight of the knapsack :\",np.sum(weight[indx_binary==1]))\n",
    "print(\"Selected value :\",value[indx_binary ==1])\n",
    "print(\"Selected weight :\",weight[indx_binary ==1])\n"
   ]
  },
  {
   "cell_type": "markdown",
   "id": "63ec5136",
   "metadata": {},
   "source": [
    "The maximum value we can obtain is 70 with the weight of the knapsack at 30"
   ]
  },
  {
   "cell_type": "markdown",
   "id": "1f820a37",
   "metadata": {},
   "source": [
    "### Question 2 - Iterative Improvement Local Search"
   ]
  },
  {
   "cell_type": "markdown",
   "id": "3e7e7657",
   "metadata": {},
   "source": [
    "We present a modified local search method for solving binary integer programming problems. This\n",
    "local search method will be referred to as the ‘iterative improvement local search’ (IILS). We want\n",
    "to maximize the linear KP problem in Q1 via maximizing the penalty function using the iterative\n",
    "improvement local search (IILS).\n"
   ]
  },
  {
   "cell_type": "code",
   "execution_count": 4,
   "id": "dadf1965",
   "metadata": {},
   "outputs": [
    {
     "name": "stdout",
     "output_type": "stream",
     "text": [
      "\n",
      "Final: Total number of solutions checked:  200354\n",
      "Best value found:  66\n",
      "Weight of knapsack:  30\n",
      "Maximum weight of the knapsack:  30\n",
      "Best solution:  [0, 0, 1, 1, 0, 0, 0, 0, 0, 0, 0, 1, 1, 0, 0, 0, 1, 0, 0, 0, 0, 0, 1, 0, 0, 0, 0, 0]\n"
     ]
    }
   ],
   "source": [
    "from random import Random\n",
    "# number of elements in a solution\n",
    "n = 28\n",
    "\n",
    "# maximum iteration\n",
    "iteration = 500\n",
    "\n",
    "# maximum number of flip\n",
    "MaxFlip = 2\n",
    "flip = 1\n",
    "\n",
    "\n",
    "# penalty function to evaluate a solution x\n",
    "def evaluate(x):\n",
    "    a = np.array(x)\n",
    "    b = np.array(values)\n",
    "    c = np.array(weights)\n",
    "    \n",
    "\n",
    "    value = np.dot(a, b)  # compute the cost value of the knapsack selection\n",
    "    totalWeight = np.dot(a, c)  # compute the weight value of the knapsack selection\n",
    "\n",
    "    if totalWeight > maxWeight:\n",
    "        value = maxWeight - totalWeight\n",
    "    return [value, totalWeight]  \n",
    "\n",
    "\n",
    "\n",
    "# function to create a 1-flip neighborhood of solution x\n",
    "def neighborhood(x):\n",
    "    if flip == 1:\n",
    "        nbrhood = []\n",
    "\n",
    "        for i in range(0, n):\n",
    "            nbrhood.append(x[:])\n",
    "            if nbrhood[i][i] == 1:\n",
    "                nbrhood[i][i] = 0\n",
    "            else:\n",
    "                nbrhood[i][i] = 1\n",
    "\n",
    "    elif flip == 2:\n",
    "        nbrhood = []\n",
    "        a = -1\n",
    "        for i in range(0, n):\n",
    "            for j in range(i, n):\n",
    "                if i != j:\n",
    "                    a += 1\n",
    "                    nbrhood.append(x[:])\n",
    "\n",
    "                    if nbrhood[a][i] == 1:\n",
    "                        nbrhood[a][i] = 0\n",
    "                    else:\n",
    "                        nbrhood[a][i] = 1\n",
    "                    # end\n",
    "\n",
    "                    if nbrhood[a][j] == 1:\n",
    "                        nbrhood[a][j] = 0\n",
    "                    else:\n",
    "                        nbrhood[a][j] = 1\n",
    "\n",
    "    else:\n",
    "        nbrhood = []\n",
    "        for i in range(0, n):\n",
    "            nbrhood.append(x[:])\n",
    "            nbrhood[i][i], nbrhood[i][i-3]=nbrhood[i][i-3], nbrhood[i][i]\n",
    "\n",
    "    return nbrhood\n",
    "\n",
    "# to setup a random number generator, we will specify a \"seed\" value\n",
    "seed = 5113\n",
    "myPRNG = Random(seed)\n",
    "\n",
    "# let's create an instance for the knapsack problem\n",
    "values = [2,6,8,7,3,4,6,5,10,9,8,11,12,15,6,8,13,14,15,16,13,14,15,26,13,9,25,26]\n",
    "\n",
    "\n",
    "\n",
    "weights = [7,3,3,5,4,7,5,4,15,10,17,3,6,11,6,\n",
    "                 14,4,8,9,10,14,17,9,24,11,17,12,14]\n",
    "\n",
    "\n",
    "\n",
    "# define max weight for the knapsack\n",
    "maxWeight = 30\n",
    "\n",
    "# monitor the number of solutions evaluated\n",
    "solutionsChecked = 0\n",
    "\n",
    "# define the solution variables\n",
    "# x_curr will hold the current solution\n",
    "# f_curr will hold the \"fitness\" of the current soluton\n",
    "# x_best will hold the best solution\n",
    "x_curr = []\n",
    "\n",
    "# start with a random solution\n",
    "for i in range(0, n):\n",
    "    if myPRNG.random() < 0.7:\n",
    "        x_curr.append(0)\n",
    "    else:\n",
    "        x_curr.append(1)\n",
    "\n",
    "# begin local search overall logic\n",
    "x_best = x_curr[:]\n",
    "f_curr = evaluate(x_curr)[0]\n",
    "totalWeight = evaluate(x_curr)[1]\n",
    "f_best = f_curr\n",
    "\n",
    "List = {}\n",
    "\n",
    "for ite in range(iteration):\n",
    "    flip = 1\n",
    "    while flip < MaxFlip + 1:\n",
    "\n",
    "        # create a list of all neighbors in the neighborhood of x_curr\n",
    "        Neighborhood = neighborhood(x_curr)\n",
    "\n",
    "        # selecting best neighbor\n",
    "        x_neigh = Neighborhood[0]\n",
    "        f_neigh = evaluate(x_neigh)[0]\n",
    "        totalWeight_neigh = evaluate(x_neigh)[1]\n",
    "\n",
    "        for s in Neighborhood:\n",
    "            solutionsChecked = solutionsChecked + 1\n",
    "\n",
    "            if evaluate(s)[0] > f_neigh:\n",
    "                if evaluate(s)[0] > f_best:\n",
    "                        # find the best member and keep track of that solution\n",
    "                        x_neigh = s[:]\n",
    "                        f_neigh = evaluate(s)[0]\n",
    "                        totalWeight_neigh = evaluate(s)[1]\n",
    "\n",
    "        # update the current list\n",
    "        x_curr_old = x_curr\n",
    "        x_curr = x_neigh\n",
    "\n",
    "        # check if it is maximum\n",
    "        if f_neigh > f_best:\n",
    "            x_best = x_neigh\n",
    "            f_best = f_neigh           #value\n",
    "            totalWeight = totalWeight_neigh    #weight\n",
    "\n",
    "            flip = MaxFlip + 1\n",
    "        else:\n",
    "            flip += 1\n",
    "\n",
    "\n",
    "    #\n",
    "    old_list = List\n",
    "    List = {}\n",
    "\n",
    "print(\"\\nFinal: Total number of solutions checked: \", solutionsChecked)\n",
    "print(\"Best value found: \", f_best)\n",
    "print(\"Weight of knapsack: \", totalWeight)\n",
    "print(\"Maximum weight of the knapsack: \", maxWeight)\n",
    "print(\"Best solution: \", x_best)\n"
   ]
  }
 ],
 "metadata": {
  "kernelspec": {
   "display_name": "Python 3 (ipykernel)",
   "language": "python",
   "name": "python3"
  },
  "language_info": {
   "codemirror_mode": {
    "name": "ipython",
    "version": 3
   },
   "file_extension": ".py",
   "mimetype": "text/x-python",
   "name": "python",
   "nbconvert_exporter": "python",
   "pygments_lexer": "ipython3",
   "version": "3.9.13"
  }
 },
 "nbformat": 4,
 "nbformat_minor": 5
}
